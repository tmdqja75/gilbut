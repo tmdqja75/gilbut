{
 "cells": [
  {
   "cell_type": "markdown",
   "metadata": {},
   "source": [
    "# RNN"
   ]
  },
  {
   "cell_type": "code",
   "execution_count": 11,
   "metadata": {},
   "outputs": [],
   "source": [
    "from tensorflow.keras.datasets import reuters"
   ]
  },
  {
   "cell_type": "code",
   "execution_count": 12,
   "metadata": {},
   "outputs": [
    {
     "name": "stdout",
     "output_type": "stream",
     "text": [
      "87\n",
      "56\n",
      "139\n",
      "224\n",
      "101\n"
     ]
    }
   ],
   "source": [
    "(X_train, y_train), (X_test, y_test) = reuters.load_data(num_words=1000, test_split=0.2)\n",
    "for i in range(5):\n",
    "    print(len(X_train[i]))"
   ]
  },
  {
   "cell_type": "code",
   "execution_count": 13,
   "metadata": {},
   "outputs": [],
   "source": [
    "from tensorflow.keras.preprocessing import sequence\n",
    "\n",
    "X_train = sequence.pad_sequences(X_train, maxlen=100)\n",
    "X_test = sequence.pad_sequences(X_test, maxlen=100)\n"
   ]
  },
  {
   "cell_type": "code",
   "execution_count": 14,
   "metadata": {},
   "outputs": [],
   "source": [
    "from tensorflow.keras.utils import to_categorical\n",
    "y_train = to_categorical(y_train)\n",
    "y_test = to_categorical(y_test)"
   ]
  },
  {
   "cell_type": "code",
   "execution_count": 15,
   "metadata": {},
   "outputs": [
    {
     "name": "stdout",
     "output_type": "stream",
     "text": [
      "Epoch 1/200\n"
     ]
    },
    {
     "name": "stderr",
     "output_type": "stream",
     "text": [
      "2022-08-21 00:39:17.009909: W tensorflow/core/platform/profile_utils/cpu_utils.cc:128] Failed to get CPU frequency: 0 Hz\n",
      "2022-08-21 00:39:17.946116: I tensorflow/core/grappler/optimizers/custom_graph_optimizer_registry.cc:113] Plugin optimizer for device_type GPU is enabled.\n",
      "2022-08-21 00:39:18.146040: I tensorflow/core/grappler/optimizers/custom_graph_optimizer_registry.cc:113] Plugin optimizer for device_type GPU is enabled.\n",
      "2022-08-21 00:39:20.222548: I tensorflow/core/grappler/optimizers/custom_graph_optimizer_registry.cc:113] Plugin optimizer for device_type GPU is enabled.\n"
     ]
    },
    {
     "name": "stdout",
     "output_type": "stream",
     "text": [
      "450/450 [==============================] - ETA: 0s - loss: 2.1715 - accuracy: 0.4489"
     ]
    },
    {
     "name": "stderr",
     "output_type": "stream",
     "text": [
      "2022-08-21 00:39:36.915210: I tensorflow/core/grappler/optimizers/custom_graph_optimizer_registry.cc:113] Plugin optimizer for device_type GPU is enabled.\n",
      "2022-08-21 00:39:36.984874: I tensorflow/core/grappler/optimizers/custom_graph_optimizer_registry.cc:113] Plugin optimizer for device_type GPU is enabled.\n"
     ]
    },
    {
     "name": "stdout",
     "output_type": "stream",
     "text": [
      "450/450 [==============================] - 22s 41ms/step - loss: 2.1715 - accuracy: 0.4489 - val_loss: 1.8866 - val_accuracy: 0.5254\n",
      "Epoch 2/200\n",
      "450/450 [==============================] - 16s 35ms/step - loss: 1.7414 - accuracy: 0.5499 - val_loss: 1.6964 - val_accuracy: 0.5708\n",
      "Epoch 3/200\n",
      "450/450 [==============================] - 16s 35ms/step - loss: 1.5666 - accuracy: 0.5949 - val_loss: 1.5513 - val_accuracy: 0.6046\n",
      "Epoch 4/200\n",
      "450/450 [==============================] - 16s 35ms/step - loss: 1.4218 - accuracy: 0.6406 - val_loss: 1.4296 - val_accuracy: 0.6425\n",
      "Epoch 5/200\n",
      "450/450 [==============================] - 16s 35ms/step - loss: 1.2490 - accuracy: 0.6840 - val_loss: 1.3512 - val_accuracy: 0.6487\n",
      "Epoch 6/200\n",
      "450/450 [==============================] - 16s 35ms/step - loss: 1.1401 - accuracy: 0.7124 - val_loss: 1.2617 - val_accuracy: 0.6776\n",
      "Epoch 7/200\n",
      "450/450 [==============================] - 16s 35ms/step - loss: 1.0465 - accuracy: 0.7334 - val_loss: 1.2567 - val_accuracy: 0.6750\n",
      "Epoch 8/200\n",
      "450/450 [==============================] - 16s 35ms/step - loss: 0.9655 - accuracy: 0.7555 - val_loss: 1.1642 - val_accuracy: 0.7128\n",
      "Epoch 9/200\n",
      "450/450 [==============================] - 16s 36ms/step - loss: 0.8853 - accuracy: 0.7778 - val_loss: 1.1733 - val_accuracy: 0.7110\n",
      "Epoch 10/200\n",
      "450/450 [==============================] - 16s 34ms/step - loss: 0.8224 - accuracy: 0.7929 - val_loss: 1.1452 - val_accuracy: 0.7168\n",
      "Epoch 11/200\n",
      "450/450 [==============================] - 15s 34ms/step - loss: 0.7590 - accuracy: 0.8104 - val_loss: 1.1294 - val_accuracy: 0.7217\n",
      "Epoch 12/200\n",
      "450/450 [==============================] - 16s 35ms/step - loss: 0.7058 - accuracy: 0.8221 - val_loss: 1.1810 - val_accuracy: 0.7159\n",
      "Epoch 13/200\n",
      "450/450 [==============================] - 15s 34ms/step - loss: 0.6561 - accuracy: 0.8356 - val_loss: 1.1917 - val_accuracy: 0.7177\n",
      "Epoch 14/200\n",
      "450/450 [==============================] - 15s 34ms/step - loss: 0.6048 - accuracy: 0.8485 - val_loss: 1.1967 - val_accuracy: 0.7253\n",
      "Epoch 15/200\n",
      "450/450 [==============================] - 15s 34ms/step - loss: 0.5747 - accuracy: 0.8578 - val_loss: 1.1977 - val_accuracy: 0.7226\n",
      "Epoch 16/200\n",
      "450/450 [==============================] - 15s 34ms/step - loss: 0.5262 - accuracy: 0.8702 - val_loss: 1.2263 - val_accuracy: 0.7204\n"
     ]
    }
   ],
   "source": [
    "from tensorflow.keras.models import Sequential\n",
    "from tensorflow.keras.layers import Dense, LSTM, Embedding\n",
    "from tensorflow.keras.callbacks import EarlyStopping\n",
    "\n",
    "model = Sequential()\n",
    "model.add(Embedding(1000, 100))\n",
    "model.add(LSTM(100, activation='tanh'))\n",
    "model.add(Dense(46, activation='softmax'))\n",
    "\n",
    "model.compile(loss='categorical_crossentropy', optimizer='adam', metrics=['accuracy'])\n",
    "\n",
    "early_stopping_callback = EarlyStopping(monitor='val_loss', patience=5)\n",
    "\n",
    "history = model.fit(X_train, y_train, \n",
    "                    batch_size=20, \n",
    "                    epochs=200, \n",
    "                    validation_data=(X_test, y_test), \n",
    "                    callbacks=[early_stopping_callback])"
   ]
  },
  {
   "cell_type": "code",
   "execution_count": null,
   "metadata": {},
   "outputs": [],
   "source": []
  }
 ],
 "metadata": {
  "kernelspec": {
   "display_name": "Python 3.8.13 ('tensorflow')",
   "language": "python",
   "name": "python3"
  },
  "language_info": {
   "codemirror_mode": {
    "name": "ipython",
    "version": 3
   },
   "file_extension": ".py",
   "mimetype": "text/x-python",
   "name": "python",
   "nbconvert_exporter": "python",
   "pygments_lexer": "ipython3",
   "version": "3.8.13"
  },
  "orig_nbformat": 4,
  "vscode": {
   "interpreter": {
    "hash": "9400bbe200c8e624f56f66a37f21a3b68cf3bdb9802aac43d4dd04786b58f6bc"
   }
  }
 },
 "nbformat": 4,
 "nbformat_minor": 2
}
